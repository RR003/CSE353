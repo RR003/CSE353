{
 "cells": [
  {
   "cell_type": "code",
   "execution_count": 59,
   "metadata": {},
   "outputs": [],
   "source": [
    "import numpy as np\n",
    "import matplotlib.pyplot as plt\n",
    "from sklearn import tree\n",
    "import scipy.io as sio\n",
    "import pandas as pd"
   ]
  },
  {
   "cell_type": "code",
   "execution_count": 5,
   "metadata": {},
   "outputs": [
    {
     "name": "stdout",
     "output_type": "stream",
     "text": [
      "(1958, 784) (1991, 784) (1958,) (1991,)\n"
     ]
    }
   ],
   "source": [
    "\"\"\"\n",
    "data = sio.loadmat('mnist.mat')\n",
    "\n",
    "\n",
    "Xtrain = data['trainX'][:10000,:].astype(int)\n",
    "Xtest = data['testX'].astype(int)\n",
    "ytrain =data['trainY'][0,:10000].astype(int)\n",
    "ytest =  data['testY'][0,:].astype(int)\n",
    "\n",
    "idx = np.logical_or(np.equal(ytrain,4), np.equal(ytrain,9))\n",
    "Xtrain = Xtrain[idx,:]\n",
    "ytrain = ytrain[idx]\n",
    "ytrain[np.equal(ytrain,4)] = 1\n",
    "ytrain[np.equal(ytrain,9)] = -1\n",
    "\n",
    "idx = np.logical_or(np.equal(ytest,4), np.equal(ytest,9))\n",
    "Xtest = Xtest[idx,:]\n",
    "ytest = ytest[idx]\n",
    "ytest[np.equal(ytest,4)] = 1\n",
    "ytest[np.equal(ytest,9)] = -1\n",
    "\n",
    "\n",
    "sio.savemat('mnist_binary_small.mat',{'Xtrain':Xtrain,'ytrain':ytrain,'Xtest':Xtest,'ytest':ytest})\n",
    "\"\"\"\n",
    "\n",
    "data = sio.loadmat('mnist_binary_small.mat')\n",
    "Xtrain = data['Xtrain']\n",
    "Xtest = data['Xtest']\n",
    "ytrain = data['ytrain'][0,:]\n",
    "ytest = data['ytest'][0,:]\n",
    "\n",
    "print(Xtrain.shape, Xtest.shape, ytrain.shape, ytest.shape)\n"
   ]
  },
  {
   "cell_type": "code",
   "execution_count": 22,
   "metadata": {},
   "outputs": [],
   "source": [
    "def get_weighted_misclass(w,y,yhat):\n",
    "    result = 0\n",
    "    total = 0\n",
    "    for i in range(len(y)):\n",
    "        if y[i] != yhat[i]:\n",
    "            result += w[i]\n",
    "        total += w[i]\n",
    "    return result/total\n",
    "    \n",
    "\n",
    "def get_misclass(y,yhat):\n",
    "    incorrect = 0;\n",
    "    for i in range(len(y)):\n",
    "        if y[i] != yhat[i]:\n",
    "            incorrect += 1\n",
    "    return incorrect / len(y)\n",
    "\n",
    "\n",
    "def get_exp_loss(y,yhat):\n",
    "    return (1/len(y)) * np.exp((np.not_equal(y,yhat)).astype(int))"
   ]
  },
  {
   "cell_type": "code",
   "execution_count": null,
   "metadata": {},
   "outputs": [],
   "source": []
  },
  {
   "cell_type": "code",
   "execution_count": 93,
   "metadata": {},
   "outputs": [
    {
     "data": {
      "text/plain": [
       "0.0698141637368157"
      ]
     },
     "execution_count": 93,
     "metadata": {},
     "output_type": "execute_result"
    }
   ],
   "source": [
    "def fit(X,y,M):\n",
    "    training_error = []\n",
    "    weak_classifiers = []\n",
    "    alphas = []\n",
    "    \n",
    "    N = len(y)\n",
    "    weights = np.array([1/N for i in range(N)])\n",
    "    \n",
    "    \n",
    "    for m in range(M):\n",
    "            \n",
    "        G_m = tree.DecisionTreeClassifier(max_depth = 1)\n",
    "        G_m.fit(X, y, weights)\n",
    "        y_hat = G_m.predict(X)\n",
    "        \n",
    "        error = 0\n",
    "        total = 0\n",
    "        for i in range(len(weights)):\n",
    "            if (y[i] != y_hat[i]):\n",
    "                error += weights[i]\n",
    "            total += weights[i]\n",
    "            ## error = sum(w_i * (np.not_equal(y, y_hat)).astype(int))/sum(w_i)\n",
    "        error = error/total\n",
    "        alpha = np.log((1 - error) / error) / 2\n",
    "            \n",
    "        alphas.append(alpha)\n",
    "        weak_classifiers.append(G_m)\n",
    "        \n",
    "        weights = weights * np.exp(alpha * (np.not_equal(y, y_hat)).astype(int))\n",
    "    \n",
    "    \n",
    "    \n",
    "    weak_preds = []\n",
    "    for m in range(M):\n",
    "        y_pred_m = weak_classifiers[m].predict(X) * alphas[m]\n",
    "        weak_preds.append(y_pred_m)\n",
    "        ## weak_preds.iloc[:,m] = y_pred_m\n",
    "       \n",
    "    y_pred = []\n",
    "    \n",
    "    for i in range(len(y)):\n",
    "        c = 0\n",
    "        for j in range(M):\n",
    "            c += weak_preds[j][i]\n",
    "        \n",
    "        if c >= 0: \n",
    "            y_pred.append(1)\n",
    "        else:\n",
    "            y_pred.append(-1)\n",
    "    \n",
    "    count = 0\n",
    "    for i in range(len(y)):\n",
    "        if y[i] == y_pred[i]:\n",
    "            count += 1\n",
    "    return 1 - count/len(y)"
   ]
  },
  {
   "cell_type": "code",
   "execution_count": null,
   "metadata": {},
   "outputs": [],
   "source": [
    "## graphing misclassification rate from M=1 -> M=100\n",
    "\n",
    "x = []\n",
    "rates = []\n",
    "for i in range(10):\n",
    "    x.append(i+1)\n",
    "    rate = fit(Xtrain, ytrain, i+1)\n",
    "    rates.append(rate)\n",
    "\n",
    "plt.plot(x,rates)\n",
    "plt.xlabel(\"M\")\n",
    "plt.ylabel(\"misclassification rate\")\n",
    "plt.show()"
   ]
  },
  {
   "cell_type": "code",
   "execution_count": null,
   "metadata": {},
   "outputs": [],
   "source": []
  }
 ],
 "metadata": {
  "kernelspec": {
   "display_name": "Python 3 (ipykernel)",
   "language": "python",
   "name": "python3"
  },
  "language_info": {
   "codemirror_mode": {
    "name": "ipython",
    "version": 3
   },
   "file_extension": ".py",
   "mimetype": "text/x-python",
   "name": "python",
   "nbconvert_exporter": "python",
   "pygments_lexer": "ipython3",
   "version": "3.9.12"
  }
 },
 "nbformat": 4,
 "nbformat_minor": 4
}
