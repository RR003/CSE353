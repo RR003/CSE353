{
 "cells": [
  {
   "cell_type": "code",
   "execution_count": 1,
   "metadata": {},
   "outputs": [],
   "source": [
    "import numpy as np\n",
    "import matplotlib.pyplot as plt\n",
    "from sklearn import tree\n",
    "import scipy.io as sio\n",
    "import pandas as pd"
   ]
  },
  {
   "cell_type": "code",
   "execution_count": 2,
   "metadata": {},
   "outputs": [
    {
     "name": "stdout",
     "output_type": "stream",
     "text": [
      "(1958, 784) (1991, 784) (1958,) (1991,)\n"
     ]
    }
   ],
   "source": [
    "\"\"\"\n",
    "data = sio.loadmat('mnist.mat')\n",
    "\n",
    "\n",
    "Xtrain = data['trainX'][:10000,:].astype(int)\n",
    "Xtest = data['testX'].astype(int)\n",
    "ytrain =data['trainY'][0,:10000].astype(int)\n",
    "ytest =  data['testY'][0,:].astype(int)\n",
    "\n",
    "idx = np.logical_or(np.equal(ytrain,4), np.equal(ytrain,9))\n",
    "Xtrain = Xtrain[idx,:]\n",
    "ytrain = ytrain[idx]\n",
    "ytrain[np.equal(ytrain,4)] = 1\n",
    "ytrain[np.equal(ytrain,9)] = -1\n",
    "\n",
    "idx = np.logical_or(np.equal(ytest,4), np.equal(ytest,9))\n",
    "Xtest = Xtest[idx,:]\n",
    "ytest = ytest[idx]\n",
    "ytest[np.equal(ytest,4)] = 1\n",
    "ytest[np.equal(ytest,9)] = -1\n",
    "\n",
    "\n",
    "sio.savemat('mnist_binary_small.mat',{'Xtrain':Xtrain,'ytrain':ytrain,'Xtest':Xtest,'ytest':ytest})\n",
    "\"\"\"\n",
    "\n",
    "data = sio.loadmat('mnist_binary_small.mat')\n",
    "Xtrain = data['Xtrain']\n",
    "Xtest = data['Xtest']\n",
    "ytrain = data['ytrain'][0,:]\n",
    "ytest = data['ytest'][0,:]\n",
    "\n",
    "print(Xtrain.shape, Xtest.shape, ytrain.shape, ytest.shape)\n"
   ]
  },
  {
   "cell_type": "code",
   "execution_count": 33,
   "metadata": {},
   "outputs": [],
   "source": [
    "def get_weighted_misclass(w,y,yhat):\n",
    "    result = 0\n",
    "    total = 0\n",
    "    for i in range(len(y)):\n",
    "        if y[i] != yhat[i]:\n",
    "            result += w[i]\n",
    "        total += w[i]\n",
    "    return result/total\n",
    "    \n",
    "\n",
    "def get_misclass(y,yhat):\n",
    "    incorrect = 0;\n",
    "    for i in range(len(y)):\n",
    "        if y[i] != yhat[i]:\n",
    "            incorrect += 1\n",
    "    return incorrect / len(y)\n",
    "\n",
    "\n",
    "def get_exp_loss(y,yhat):\n",
    "    return (1/len(y)) * np.exp((np.not_equal(y,yhat)).astype(int))"
   ]
  },
  {
   "cell_type": "code",
   "execution_count": 34,
   "metadata": {},
   "outputs": [],
   "source": [
    "def fit2(X,y,M):\n",
    "    training_error = []\n",
    "    weak_classifiers = []\n",
    "    alphas = []\n",
    "    errors = []\n",
    "    \n",
    "    N = len(y)\n",
    "    weights = np.array([1/N for i in range(N)])\n",
    "    \n",
    "    \n",
    "    for m in range(M):\n",
    "            \n",
    "        G_m = tree.DecisionTreeClassifier(max_depth = 1)\n",
    "        G_m.fit(X, y, weights)\n",
    "        y_hat = G_m.predict(X)\n",
    "        \n",
    "        error = 0\n",
    "        total = 0\n",
    "        for i in range(len(weights)):\n",
    "            if (y[i] != y_hat[i]):\n",
    "                error += weights[i]\n",
    "            total += weights[i]\n",
    "            ## error = sum(w_i * (np.not_equal(y, y_hat)).astype(int))/sum(w_i)\n",
    "        error = error/total\n",
    "        errors.append(error)\n",
    "        alpha = np.log((1 - error) / error) / 2\n",
    "            \n",
    "        alphas.append(alpha)\n",
    "        weak_classifiers.append(G_m)\n",
    "        \n",
    "        weights = weights * np.exp(alpha * (np.not_equal(y, y_hat)).astype(int))\n",
    "        \n",
    "    return alphas, errors"
   ]
  },
  {
   "cell_type": "code",
   "execution_count": 35,
   "metadata": {},
   "outputs": [],
   "source": [
    "def fit(X,y,M):\n",
    "    training_error = []\n",
    "    weak_classifiers = []\n",
    "    alphas = []\n",
    "    \n",
    "    N = len(y)\n",
    "    weights = np.array([1/N for i in range(N)])\n",
    "    \n",
    "    \n",
    "    for m in range(M):    \n",
    "        G_m = tree.DecisionTreeClassifier(max_depth = 1)\n",
    "        G_m.fit(X, y, weights)\n",
    "        y_hat = G_m.predict(X)\n",
    "        \n",
    "        error = 0\n",
    "        total = 0\n",
    "        for i in range(len(weights)):\n",
    "            if (y[i] != y_hat[i]):\n",
    "                error += weights[i]\n",
    "            total += weights[i]\n",
    "            ## error = sum(w_i * (np.not_equal(y, y_hat)).astype(int))/sum(w_i)\n",
    "        error = error/total\n",
    "        alpha = np.log((1 - error) / error) / 2\n",
    "            \n",
    "        alphas.append(alpha)\n",
    "        weak_classifiers.append(G_m)\n",
    "        \n",
    "        weights = weights * np.exp(alpha * (np.not_equal(y, y_hat)).astype(int))\n",
    "    \n",
    "    \n",
    "    \n",
    "    weak_preds = []\n",
    "    for m in range(M):\n",
    "        y_pred_m = weak_classifiers[m].predict(X) * alphas[m]\n",
    "        weak_preds.append(y_pred_m)\n",
    "       \n",
    "    y_pred = []\n",
    "    \n",
    "    for i in range(len(y)):\n",
    "        c = 0\n",
    "        for j in range(M):\n",
    "            c += weak_preds[j][i]\n",
    "        \n",
    "        if c >= 0: \n",
    "            y_pred.append(1)\n",
    "        else:\n",
    "            y_pred.append(-1)\n",
    "    \n",
    "    count = 0\n",
    "    for i in range(len(y)):\n",
    "        if y[i] == y_pred[i]:\n",
    "            count += 1\n",
    "    return 1 - count/len(y)"
   ]
  },
  {
   "cell_type": "code",
   "execution_count": 36,
   "metadata": {},
   "outputs": [
    {
     "name": "stdout",
     "output_type": "stream",
     "text": [
      "0.10980592441266601\n",
      "0.14967353088900048\n"
     ]
    }
   ],
   "source": [
    "print(fit(Xtrain, ytrain,1))\n",
    "print(fit(Xtest, ytest, 1))"
   ]
  },
  {
   "cell_type": "code",
   "execution_count": 11,
   "metadata": {},
   "outputs": [
    {
     "data": {
      "text/plain": [
       "Text(0.5, 0, 'M')"
      ]
     },
     "execution_count": 11,
     "metadata": {},
     "output_type": "execute_result"
    },
    {
     "data": {
      "image/png": "[encoded data removed]",
      "text/plain": [
       "<Figure size 432x288 with 1 Axes>"
      ]
     },
     "metadata": {
      "needs_background": "light"
     },
     "output_type": "display_data"
    }
   ],
   "source": [
    "## graphing misclassification rate from M=1 -> M=10\n",
    "x = []\n",
    "rates = []\n",
    "for i in range(100):\n",
    "    x.append(i+1)\n",
    "    rate = fit(Xtrain, ytrain, i+1)\n",
    "    rates.append(rate)\n",
    "\n",
    "plt.plot(x,rates)\n",
    "plt.xlabel(\"M\")\n"
   ]
  },
  {
   "cell_type": "code",
   "execution_count": 16,
   "metadata": {},
   "outputs": [
    {
     "name": "stdout",
     "output_type": "stream",
     "text": [
      "0.026557711950970342\n"
     ]
    }
   ],
   "source": [
    "minX = rates[0]\n",
    "for i in range(len(x)):\n",
    "    if minX > rates[i]:\n",
    "        minX = rates[i]\n",
    "print(minX)"
   ]
  },
  {
   "cell_type": "code",
   "execution_count": 37,
   "metadata": {},
   "outputs": [
    {
     "data": {
      "text/plain": [
       "Text(0, 0.5, 'Misclassifciation rate')"
      ]
     },
     "execution_count": 37,
     "metadata": {},
     "output_type": "execute_result"
    },
    {
     "data": {
      "image/png": "[encoded data removed]",
      "text/plain": [
       "<Figure size 432x288 with 1 Axes>"
      ]
     },
     "metadata": {
      "needs_background": "light"
     },
     "output_type": "display_data"
    }
   ],
   "source": [
    "x2 = []\n",
    "rates2 = []\n",
    "for i in range(100):\n",
    "    x2.append(i+1)\n",
    "    rate2 = fit(Xtest, ytest, i+1)\n",
    "    rates2.append(rate2)\n",
    "\n",
    "plt.plot(x2,rates2)\n",
    "plt.xlabel(\"M\")\n",
    "plt.ylabel(\"Misclassifciation rate\")"
   ]
  },
  {
   "cell_type": "code",
   "execution_count": 38,
   "metadata": {},
   "outputs": [
    {
     "name": "stdout",
     "output_type": "stream",
     "text": [
      "0.02812656956303361\n"
     ]
    }
   ],
   "source": [
    "minX2 = rates[0]\n",
    "for i in range(len(x2)):\n",
    "    if minX2 > rates2[i]:\n",
    "        minX2 = rates2[i]\n",
    "print(minX2)"
   ]
  },
  {
   "cell_type": "code",
   "execution_count": 21,
   "metadata": {},
   "outputs": [
    {
     "data": {
      "text/plain": [
       "Text(0, 0.5, 'Alpha rate')"
      ]
     },
     "execution_count": 21,
     "metadata": {},
     "output_type": "execute_result"
    },
    {
     "data": {
      "image/png": "[encoded data removed]",
      "text/plain": [
       "<Figure size 432x288 with 1 Axes>"
      ]
     },
     "metadata": {
      "needs_background": "light"
     },
     "output_type": "display_data"
    }
   ],
   "source": [
    "alphas,errors = fit2(Xtrain, ytrain, 100)\n",
    "plt.plot(x2,alphas)\n",
    "plt.xlabel(\"t\")\n",
    "plt.ylabel(\"Alpha rate\")"
   ]
  },
  {
   "cell_type": "code",
   "execution_count": 22,
   "metadata": {},
   "outputs": [
    {
     "data": {
      "text/plain": [
       "Text(0, 0.5, 'Weighted Error')"
      ]
     },
     "execution_count": 22,
     "metadata": {},
     "output_type": "execute_result"
    },
    {
     "data": {
      "image/png": "[encoded data removed]",
      "text/plain": [
       "<Figure size 432x288 with 1 Axes>"
      ]
     },
     "metadata": {
      "needs_background": "light"
     },
     "output_type": "display_data"
    }
   ],
   "source": [
    "plt.plot(x2,errors)\n",
    "plt.xlabel(\"t\")\n",
    "plt.ylabel(\"Weighted Error\")"
   ]
  },
  {
   "cell_type": "code",
   "execution_count": null,
   "metadata": {},
   "outputs": [],
   "source": []
  }
 ],
 "metadata": {
  "kernelspec": {
   "display_name": "Python 3 (ipykernel)",
   "language": "python",
   "name": "python3"
  },
  "language_info": {
   "codemirror_mode": {
    "name": "ipython",
    "version": 3
   },
   "file_extension": ".py",
   "mimetype": "text/x-python",
   "name": "python",
   "nbconvert_exporter": "python",
   "pygments_lexer": "ipython3",
   "version": "3.9.12"
  }
 },
 "nbformat": 4,
 "nbformat_minor": 4
}
